{
 "cells": [
  {
   "cell_type": "markdown",
   "metadata": {},
   "source": [
    "# Project 1: Digit Classification with KNN and Naive Bayes"
   ]
  },
  {
   "cell_type": "markdown",
   "metadata": {},
   "source": [
    "In this project, you'll implement your own image recognition system for classifying digits. Read through the code and the instructions carefully and add your own code where indicated. Each problem can be addressed succinctly with the included packages -- please don't add any more. Grading will be based on writing clean, commented code, along with a few short answers.\n",
    "\n",
    "As always, you're welcome to work on the project in groups and discuss ideas on the course wall, but <b> please prepare your own write-up (with your own code). </b>\n",
    "\n",
    "If you're interested, check out these links related to digit recognition:\n",
    "\n",
    "Yann Lecun's MNIST benchmarks: http://yann.lecun.com/exdb/mnist/\n",
    "\n",
    "Stanford Streetview research and data: http://ufldl.stanford.edu/housenumbers/"
   ]
  },
  {
   "cell_type": "code",
   "execution_count": 1,
   "metadata": {},
   "outputs": [
    {
     "name": "stderr",
     "output_type": "stream",
     "text": [
      "/Users/danielleadler/anaconda3/lib/python3.6/site-packages/sklearn/cross_validation.py:41: DeprecationWarning: This module was deprecated in version 0.18 in favor of the model_selection module into which all the refactored classes and functions are moved. Also note that the interface of the new CV iterators are different from that of this module. This module will be removed in 0.20.\n",
      "  \"This module will be removed in 0.20.\", DeprecationWarning)\n",
      "/Users/danielleadler/anaconda3/lib/python3.6/site-packages/sklearn/grid_search.py:42: DeprecationWarning: This module was deprecated in version 0.18 in favor of the model_selection module into which all the refactored classes and functions are moved. This module will be removed in 0.20.\n",
      "  DeprecationWarning)\n"
     ]
    }
   ],
   "source": [
    "# This tells matplotlib not to try opening a new window for each plot.\n",
    "%matplotlib inline\n",
    "\n",
    "# Import a bunch of libraries.\n",
    "import time\n",
    "import numpy as np\n",
    "import matplotlib.pyplot as plt\n",
    "from matplotlib.ticker import MultipleLocator\n",
    "from sklearn.pipeline import Pipeline\n",
    "from sklearn.datasets import fetch_mldata\n",
    "from sklearn.neighbors import KNeighborsClassifier\n",
    "from sklearn.metrics import confusion_matrix\n",
    "from sklearn.linear_model import LinearRegression\n",
    "from sklearn.naive_bayes import BernoulliNB\n",
    "from sklearn.naive_bayes import MultinomialNB\n",
    "from sklearn.naive_bayes import GaussianNB\n",
    "from sklearn.grid_search import GridSearchCV\n",
    "from sklearn.metrics import classification_report\n",
    "\n",
    "# Set the randomizer seed so results are the same each time.\n",
    "np.random.seed(0)"
   ]
  },
  {
   "cell_type": "markdown",
   "metadata": {},
   "source": [
    "Load the data. Notice that we are splitting the data into training, development, and test. We also have a small subset of the training data called mini_train_data and mini_train_labels that you should use in all the experiments below, unless otherwise noted."
   ]
  },
  {
   "cell_type": "code",
   "execution_count": 2,
   "metadata": {},
   "outputs": [
    {
     "name": "stdout",
     "output_type": "stream",
     "text": [
      "data shape:  (70000, 784)\n",
      "label shape: (70000,)\n"
     ]
    }
   ],
   "source": [
    "# Load the digit data either from mldata.org, or once downloaded to data_home, from disk. The data is about 53MB so this cell\n",
    "# should take a while the first time your run it.\n",
    "mnist = fetch_mldata('MNIST original', data_home='~/datasets/mnist')\n",
    "X, Y = mnist.data, mnist.target\n",
    "\n",
    "# Rescale grayscale values to [0,1].\n",
    "X = X / 255.0\n",
    "\n",
    "# Shuffle the input: create a random permutation of the integers between 0 and the number of data points and apply this\n",
    "# permutation to X and Y.\n",
    "# NOTE: Each time you run this cell, you'll re-shuffle the data, resulting in a different ordering.\n",
    "shuffle = np.random.permutation(np.arange(X.shape[0]))\n",
    "X, Y = X[shuffle], Y[shuffle]\n",
    "\n",
    "print ('data shape: ', X.shape)\n",
    "print ('label shape:', Y.shape)\n",
    "\n",
    "# Set some variables to hold test, dev, and training data.\n",
    "test_data, test_labels = X[61000:], Y[61000:]\n",
    "dev_data, dev_labels = X[60000:61000], Y[60000:61000]\n",
    "train_data, train_labels = X[:60000], Y[:60000]\n",
    "mini_train_data, mini_train_labels = X[:1000], Y[:1000]"
   ]
  },
  {
   "cell_type": "markdown",
   "metadata": {},
   "source": [
    "(1) Create a 10x10 grid to visualize 10 examples of each digit. Python hints:\n",
    "\n",
    "- plt.rc() for setting the colormap, for example to black and white\n",
    "- plt.subplot() for creating subplots\n",
    "- plt.imshow() for rendering a matrix\n",
    "- np.array.reshape() for reshaping a 1D feature vector into a 2D matrix (for rendering)"
   ]
  },
  {
   "cell_type": "code",
   "execution_count": 3,
   "metadata": {},
   "outputs": [
    {
     "data": {
      "image/png": "[encoded data removed]",
      "text/plain": [
       "<Figure size 432x288 with 100 Axes>"
      ]
     },
     "metadata": {},
     "output_type": "display_data"
    }
   ],
   "source": [
    "def P1(num_examples=10):\n",
    "\n",
    "### STUDENT START ###\n",
    "\n",
    "    # Initializing our subplot so that it starts with printing the first row in our image grid\n",
    "    adding_rows = 0\n",
    "\n",
    "    # Incrementing each digit of the 10 digit possibilities\n",
    "    for digit in range(10):\n",
    "    \n",
    "        # Creating a grid to show the matrix representation of each digit\n",
    "        grid = (mini_train_data[mini_train_labels == digit])\n",
    "    \n",
    "        # Incrementing to print 10 images of each digit\n",
    "        for image in range(num_examples):\n",
    "        \n",
    "            adding_rows += 1\n",
    "        \n",
    "            # Breaks the graph into rows (10), columns (10)\n",
    "            # and adds a row each time we go through the for loop (10 times)\n",
    "            plt.subplot(10, num_examples, adding_rows)\n",
    "            plt.axis('off')\n",
    "        \n",
    "            # Looping through 10 of the examples that are in grid\n",
    "            # Reshaping to 28 x 28 pixels for proper rendering of the images\n",
    "            plt.imshow(grid[image].reshape(28,28), cmap=plt.cm.gray_r)\n",
    "\n",
    "### STUDENT END ###\n",
    "\n",
    "P1(10)"
   ]
  },
  {
   "cell_type": "markdown",
   "metadata": {},
   "source": [
    "(2) Evaluate a K-Nearest-Neighbors model with k = [1,3,5,7,9] using the mini training set. Report accuracy on the dev set. For k=1, show precision, recall, and F1 for each label. Which is the most difficult digit?\n",
    "\n",
    "- KNeighborsClassifier() for fitting and predicting\n",
    "- classification_report() for producing precision, recall, F1 results"
   ]
  },
  {
   "cell_type": "code",
   "execution_count": 4,
   "metadata": {},
   "outputs": [
    {
     "name": "stdout",
     "output_type": "stream",
     "text": [
      "k = 1: 0.888 model accuracy\n",
      "             precision    recall  f1-score   support\n",
      "\n",
      "        0.0       0.91      0.98      0.94        99\n",
      "        1.0       0.89      1.00      0.94       105\n",
      "        2.0       0.99      0.79      0.88       102\n",
      "        3.0       0.77      0.87      0.82        86\n",
      "        4.0       0.89      0.82      0.85       104\n",
      "        5.0       0.93      0.84      0.88        91\n",
      "        6.0       0.94      0.96      0.95        98\n",
      "        7.0       0.89      0.92      0.90       113\n",
      "        8.0       0.94      0.88      0.91        96\n",
      "        9.0       0.78      0.82      0.80       106\n",
      "\n",
      "avg / total       0.89      0.89      0.89      1000\n",
      "\n",
      "k = 3: 0.878 model accuracy\n",
      "k = 5: 0.869 model accuracy\n",
      "k = 7: 0.865 model accuracy\n",
      "k = 9: 0.863 model accuracy\n"
     ]
    }
   ],
   "source": [
    "def P2(k_values):\n",
    "\n",
    "### STUDENT START ###\n",
    "\n",
    "    for kNN in k_values:\n",
    "    \n",
    "        # Initialize the model to apply it to each digit in k_values\n",
    "        # Our k_values correspond to how many k nearest neighbors we are looking at\n",
    "        model = KNeighborsClassifier(n_neighbors=kNN)\n",
    "\n",
    "        # Fit the model on the mini training dataset\n",
    "        model.fit(mini_train_data, mini_train_labels)\n",
    "    \n",
    "        # Predict the model on the dev dataset\n",
    "        dev_predicted_labels = model.predict(dev_data)\n",
    "    \n",
    "        # Evaluate the model accuracy on the dev data\n",
    "        print(\"k = \", kNN,\": \",model.score(dev_data, dev_labels), \" model accuracy\", sep=\"\")\n",
    "    \n",
    "        if kNN == 1:\n",
    "        \n",
    "            # Evaluting 1 k nearest neighbors on each of our digits\n",
    "            print(classification_report(dev_labels, dev_predicted_labels))\n",
    "        \n",
    "### STUDENT END ###\n",
    "\n",
    "k_values = [1, 3, 5, 7, 9]\n",
    "P2(k_values)"
   ]
  },
  {
   "cell_type": "markdown",
   "metadata": {},
   "source": [
    "**ANSWER:** According to the results, we should only look at 1 k Nearest Neighbor to get the highest model accuracy. If we are evaluating more nearest neighbors, we could run into padding, or clear cut lines where the number ends, which could make accuracy more difficult to predict.\n",
    "\n",
    "The hardest digit to predict at 1 k Nearest Neighbors with regards to precision is digit 3 (digits are labeled as 3's when they are not), although digit 2 has the lowest recall (2's are often predicted as digits other than 2). If we look at the f1-score, taking precision and recall together, digit 9 is the hardest digit to predict at 1 k Nearest Neighbor.\n",
    "\n",
    "<br>"
   ]
  },
  {
   "cell_type": "markdown",
   "metadata": {},
   "source": [
    "(3) Using k=1, report dev set accuracy for the training set sizes below. Also, measure the amount of time needed for prediction with each training size.\n",
    "\n",
    "- time.time() gives a wall clock value you can use for timing operations"
   ]
  },
  {
   "cell_type": "code",
   "execution_count": 5,
   "metadata": {},
   "outputs": [
    {
     "name": "stdout",
     "output_type": "stream",
     "text": [
      "training data size 100: 0.72 model accuracy; 0.15 seconds of prediction time\n",
      "training data size 200: 0.786 model accuracy; 0.24 seconds of prediction time\n",
      "training data size 400: 0.841 model accuracy; 0.49 seconds of prediction time\n",
      "training data size 800: 0.884 model accuracy; 0.91 seconds of prediction time\n",
      "training data size 1600: 0.902 model accuracy; 1.84 seconds of prediction time\n",
      "training data size 3200: 0.926 model accuracy; 3.61 seconds of prediction time\n",
      "training data size 6400: 0.937 model accuracy; 7.06 seconds of prediction time\n",
      "training data size 12800: 0.959 model accuracy; 14.64 seconds of prediction time\n",
      "training data size 25000: 0.97 model accuracy; 28.09 seconds of prediction time\n"
     ]
    }
   ],
   "source": [
    "def P3(train_sizes, accuracies):\n",
    "\n",
    "### STUDENT START ###\n",
    "\n",
    "    for size in train_sizes:\n",
    "    \n",
    "        # Initialize the model to apply it to k Nearest Neighbors 1 as the question states\n",
    "        model = KNeighborsClassifier(n_neighbors=1)\n",
    "\n",
    "        # Fit the model on the size of the training data specified above\n",
    "        model.fit(train_data[:size], train_labels[:size])\n",
    "    \n",
    "        # Setting initial time here before prediction\n",
    "        time_initial = time.time()\n",
    "\n",
    "        # Predict the model using the dev data\n",
    "        test_predicted_labels = model.predict(dev_data)\n",
    "    \n",
    "        # Setting the final time here after prediction\n",
    "        time_final = time.time()\n",
    "    \n",
    "        # Evaluate the model accuracy on the various training data sizes\n",
    "        print(\"training data size \", size, \": \", model.score(dev_data, dev_labels), \" model accuracy; \",\n",
    "              \"%.2f\" % (time_final - time_initial), \" seconds of prediction time\", sep=\"\")      \n",
    "    \n",
    "        # Creating a list for accuracy variables to use in problem 4\n",
    "        accuracies.append(model.score(dev_data, dev_labels))\n",
    "\n",
    "### STUDENT END ###\n",
    "\n",
    "train_sizes = [100, 200, 400, 800, 1600, 3200, 6400, 12800, 25000]\n",
    "accuracies = []\n",
    "P3(train_sizes, accuracies)"
   ]
  },
  {
   "cell_type": "markdown",
   "metadata": {},
   "source": [
    "(4) Fit a regression model that predicts accuracy from training size. What does it predict for n=60000? What's wrong with using regression here? Can you apply a transformation that makes the predictions more reasonable?\n",
    "\n",
    "- Remember that the sklearn fit() functions take an input matrix X and output vector Y. So each input example in X is a vector, even if it contains only a single value."
   ]
  },
  {
   "cell_type": "code",
   "execution_count": 6,
   "metadata": {
    "scrolled": true
   },
   "outputs": [
    {
     "name": "stdout",
     "output_type": "stream",
     "text": [
      "R^2 = 0.4431\n",
      "Intercept = 0.8432\n",
      "Coefficient = 0.00000667\n",
      "Estimated function: y = 0.8432 + 0.00000667x\n",
      "Training data size 60000: 1.243 model accuracy\n"
     ]
    },
    {
     "data": {
      "image/png": "[encoded data removed]",
      "text/plain": [
       "<Figure size 432x288 with 1 Axes>"
      ]
     },
     "metadata": {},
     "output_type": "display_data"
    },
    {
     "data": {
      "image/png": "[encoded data removed]",
      "text/plain": [
       "<Figure size 432x288 with 1 Axes>"
      ]
     },
     "metadata": {},
     "output_type": "display_data"
    },
    {
     "name": "stdout",
     "output_type": "stream",
     "text": [
      "R^2 = 0.9938\n",
      "Intercept = 0.9756\n",
      "Coefficient = -2.62109480\n",
      "Estimated function: y = 0.9756 + 1/sqrt(-2.62109480x)\n",
      "\n",
      "Accuracy with Training Data Size 6,0000 predicted by Linear Regression: 0.965 model accuracy\n",
      "Accuracy with Training Data Size 6,0000 predicted by k Nearest Neighbors: 0.977 model accuracy\n"
     ]
    }
   ],
   "source": [
    "def P4():\n",
    "\n",
    "### STUDENT START ###\n",
    "\n",
    "    # Assigning the input and output data\n",
    "    Input_X = np.asarray(train_sizes).reshape(-1, 1)\n",
    "    Output_Y = np.asarray(accuracies)\n",
    "\n",
    "    # Running the linear regression\n",
    "    LR = LinearRegression (fit_intercept=True)\n",
    "    LR.fit(Input_X, Output_Y)\n",
    "\n",
    "    # Printing metrics related to the linear regression output\n",
    "    print ('R^2 = %.4f' % (LR.score(Input_X,Output_Y)))\n",
    "    print ('Intercept = %.4f' % (LR.intercept_))\n",
    "    print ('Coefficient = %.8f' % (LR.coef_))\n",
    "    print ('Estimated function: y = %.4f + %.8fx' %(LR.intercept_, LR.coef_[0]))\n",
    "\n",
    "    # Predicting model accuracy on training data of 60,000 (i.e. all of the training data)\n",
    "    print (\"Training data size 60000: \", '%.3f' % (LR.predict(60000)), \n",
    "           \" model accuracy\", sep=\"\")\n",
    "\n",
    "    # Creating a scatter plot to evaluate the issue with using regression,\n",
    "    # which appears to be the X and Y axis are not linear\n",
    "    plt.scatter(Input_X, Output_Y)\n",
    "    plt.title(\"Train Sizes vs. Accuracy\")\n",
    "    plt.xlabel(\"Train Sizes\")\n",
    "    plt.ylabel(\"Accuracy\")\n",
    "    plt.show()\n",
    "\n",
    "    # Transformed the data training size data for a better accuracy measure\n",
    "    # and a linear relationship between the input and output variables\n",
    "    Input_X_SQRT = np.asarray(1 / np.sqrt(train_sizes)).reshape(-1,1)\n",
    "    Output_Y = np.asarray(accuracies)\n",
    "\n",
    "    # Creating a scatter plot to show that after transformation the relationship is far more linear\n",
    "    plt.scatter(Input_X_SQRT, Output_Y)\n",
    "    plt.title(\"1/SQRT(Train Sizes) vs. Accuracy\")\n",
    "    plt.xlabel(\"1/SQRT(Train Sizes)\")\n",
    "    plt.ylabel(\"Accuracy\")\n",
    "    plt.show()\n",
    "\n",
    "    # Running the linear regression with the training size data as a transformation\n",
    "    LR = LinearRegression (fit_intercept=True)\n",
    "    LR.fit(Input_X_SQRT, Output_Y)\n",
    "\n",
    "    # Printing metrics related to the transformed linear regression output\n",
    "    print ('R^2 = %.4f' % (LR.score(Input_X_SQRT,Output_Y)))\n",
    "    print ('Intercept = %.4f' % (LR.intercept_))\n",
    "    print ('Coefficient = %.8f' % (LR.coef_))\n",
    "    print ('Estimated function: y = %.4f + 1/sqrt(%.8fx)' %(LR.intercept_, LR.coef_[0]))\n",
    "    print (\"\\nAccuracy with Training Data Size 6,0000 predicted by Linear Regression: \", '%.3f' % (LR.predict(1/np.sqrt(60000))), \n",
    "           \" model accuracy\", sep=\"\")\n",
    "\n",
    "    # Evaluating the actual training data size accuracy with a size of 60,000\n",
    "    model = KNeighborsClassifier(n_neighbors=1)\n",
    "    model.fit(train_data[:60000], train_labels[:60000])\n",
    "    test_predicted_labels = model.predict(dev_data)\n",
    "    print(\"Accuracy with Training Data Size 6,0000 predicted by k Nearest Neighbors: \",model.score(dev_data, dev_labels),\n",
    "          \" model accuracy\", sep=\"\")\n",
    "\n",
    "### STUDENT END ###\n",
    "\n",
    "P4()"
   ]
  },
  {
   "cell_type": "markdown",
   "metadata": {},
   "source": [
    "**ANSWER:** The original prediction for the accuracy on a training size of 60,000 was 1.243, which equates to an accuracy of over 100%. An accuracy of this value is not possible. I then looked at the relationship between the training sizes and accuracy, and saw that the relationship was logarithmic. As the relationship at this point was not linear, a linear regression could not be used. \n",
    "\n",
    "I transformed the data using a 1 over the square root of the training size transformation to produce a linear relationship between the training size and accuracy datasets. The accuracy was then 0.965 from the linear regression, while the accuracy with k nearest neighbors is 0.977, which is within a ~1% of the linear regression predicted accuracy.\n",
    "\n",
    "<br>"
   ]
  },
  {
   "cell_type": "markdown",
   "metadata": {},
   "source": [
    "(5) Fit a 1-NN and output a confusion matrix for the dev data. Use the confusion matrix to identify the most confused pair of digits, and display a few example mistakes.\n",
    "\n",
    "- confusion_matrix() produces a confusion matrix"
   ]
  },
  {
   "cell_type": "code",
   "execution_count": 7,
   "metadata": {},
   "outputs": [
    {
     "name": "stdout",
     "output_type": "stream",
     "text": [
      "[[ 97   0   0   0   0   0   2   0   0   0]\n",
      " [  0 105   0   0   0   0   0   0   0   0]\n",
      " [  4   4  81   4   0   0   0   4   3   2]\n",
      " [  1   0   0  75   0   3   0   3   1   3]\n",
      " [  0   2   0   0  85   0   3   0   0  14]\n",
      " [  2   0   0   9   0  76   0   1   1   2]\n",
      " [  1   1   1   0   1   0  94   0   0   0]\n",
      " [  1   4   0   1   1   0   0 104   0   2]\n",
      " [  0   2   0   5   0   2   1   0  84   2]\n",
      " [  1   0   0   3   9   1   0   5   0  87]]\n"
     ]
    },
    {
     "data": {
      "image/png": "[encoded data removed]",
      "text/plain": [
       "<Figure size 432x432 with 2 Axes>"
      ]
     },
     "metadata": {},
     "output_type": "display_data"
    },
    {
     "name": "stdout",
     "output_type": "stream",
     "text": [
      "Most confused pair of digits (predicted, actual): [(9.0, 4.0)]\n"
     ]
    },
    {
     "data": {
      "image/png": "[encoded data removed]",
      "text/plain": [
       "<Figure size 432x288 with 14 Axes>"
      ]
     },
     "metadata": {},
     "output_type": "display_data"
    }
   ],
   "source": [
    "def P5():\n",
    "\n",
    "### STUDENT START ###\n",
    "\n",
    "    # First, train the data using the mini train data, fit the model, and then predict using the dev data\n",
    "    model = KNeighborsClassifier(n_neighbors=1)\n",
    "    model.fit(mini_train_data, mini_train_labels)\n",
    "    dev_predicted_labels = model.predict(dev_data)\n",
    "\n",
    "    # Print out a confusion matrix using the predictions\n",
    "    cm = confusion_matrix(dev_labels, dev_predicted_labels)\n",
    "    print(cm)\n",
    "\n",
    "    # Print out a confusion matrix heat map for better visual representation\n",
    "    fig = plt.figure(figsize=(6,6))\n",
    "    ax = fig.add_subplot(111)\n",
    "    cax = ax.matshow(cm, cmap=plt.cm.cool)\n",
    "    plt.title('Confusion Matrix')\n",
    "    plt.colorbar(cax,fraction=0.046, pad=0.06)\n",
    "    plt.xlabel('Predicted')\n",
    "    plt.ylabel('Actual')\n",
    "    plt.xticks(np.arange(0, 10, step=1))\n",
    "    plt.yticks(np.arange(0, 10, step=1))\n",
    "    for a in range(10):\n",
    "        for b in range(10):\n",
    "            plt.text(b,a,str(cm[a][b]), horizontalalignment='center')\n",
    "    plt.show()\n",
    "\n",
    "\n",
    "    # Storing all of the errors between prediction and actual in a dictionary so that I can\n",
    "    # figuring out the most confused digits within my confusion matrix\n",
    "    errors = {}\n",
    "\n",
    "    for i in range(0, len(dev_data)):\n",
    "        if dev_predicted_labels[i] != dev_labels[i]:\n",
    "        \n",
    "            # Putting the pairs in a tuple together where the predicted label does not equal the actual label\n",
    "            pair = (dev_predicted_labels[i], dev_labels[i])\n",
    "        \n",
    "            # If the pair is not yet in our error dictionary, count it one time (add it to the dictionary)\n",
    "            if pair not in errors.keys():\n",
    "                errors[pair] = 1\n",
    "        \n",
    "            # If the pair is already in our dictionary, add one\n",
    "            else:\n",
    "                errors[pair] += 1\n",
    "\n",
    "    # Sorting to see the most confused pair of digits\n",
    "    error_sort = sorted(errors, key=errors.get, reverse=True)[:1]\n",
    "    print(\"Most confused pair of digits (predicted, actual):\", error_sort)\n",
    "\n",
    "    \n",
    "    # Creating a dataset of the most confused pairs with the proper index so that I can print the images\n",
    "    # associated with this confused pairing\n",
    "    pred_X_act_X = np.where((dev_predicted_labels == error_sort[0][0]) & (dev_labels == error_sort[0][1]))\n",
    "\n",
    "    # Initializing our subplot so that it starts with printing the first column in our image grid        \n",
    "    adding_col = 0\n",
    "\n",
    "    for data_num in (pred_X_act_X[0]):\n",
    "            adding_col += 1\n",
    "        \n",
    "            # Breaks the graph into rows, columns\n",
    "            # and adds column each time we go through the for loop (for as many images that exist)\n",
    "            plt.subplot(1, len(pred_X_act_X[0]), adding_col)\n",
    "            plt.axis('off')\n",
    "        \n",
    "            # Reshaping the image to 28 x 28 pixels\n",
    "            plt.imshow(dev_data[data_num].reshape(28,28), cmap=plt.cm.gray_r)\n",
    "\n",
    "### STUDENT END ###\n",
    "\n",
    "P5()"
   ]
  },
  {
   "cell_type": "markdown",
   "metadata": {},
   "source": [
    "(6) A common image processing technique is to smooth an image by blurring. The idea is that the value of a particular pixel is estimated as the weighted combination of the original value and the values around it. Typically, the blurring is Gaussian -- that is, the weight of a pixel's influence is determined by a Gaussian function over the distance to the relevant pixel.\n",
    "\n",
    "Implement a simplified Gaussian blur by just using the 8 neighboring pixels: the smoothed value of a pixel is a weighted combination of the original value and the 8 neighboring values. Try applying your blur filter in 3 ways:\n",
    "- preprocess the training data but not the dev data\n",
    "- preprocess the dev data but not the training data\n",
    "- preprocess both training and dev data\n",
    "\n",
    "Note that there are Guassian blur filters available, for example in scipy.ndimage.filters. You're welcome to experiment with those, but you are likely to get the best results with the simplified version I described above."
   ]
  },
  {
   "cell_type": "code",
   "execution_count": 9,
   "metadata": {},
   "outputs": [
    {
     "name": "stdout",
     "output_type": "stream",
     "text": [
      "model accuracy when preprocessing the training data but not the dev data: 0.908\n",
      "model accuracy when preprocessing the dev data but not the training data: 0.871\n",
      "model accuracy when preprocessing both training and dev data: 0.902\n"
     ]
    },
    {
     "data": {
      "image/png": "[encoded data removed]",
      "text/plain": [
       "<Figure size 432x288 with 2 Axes>"
      ]
     },
     "metadata": {},
     "output_type": "display_data"
    }
   ],
   "source": [
    "def P6():\n",
    "    \n",
    "### STUDENT START ###\n",
    "\n",
    "    def blur (dataset):\n",
    "        \"\"\"Pre-processing function to blur each image within a dataset\"\"\"\n",
    "        \n",
    "        mini_6_blur_data = dataset.copy()\n",
    "    \n",
    "        # Initializing each image to blur as zeros\n",
    "        blur_image = np.zeros((28,28))\n",
    "    \n",
    "        # I am indexing to reshape each image and then replace it back within the dataset\n",
    "        for image in range(len(mini_6_blur_data)):\n",
    "            x = dataset[image].reshape(28,28)\n",
    "        \n",
    "            # Now I will loop through each row and then each column to go through pixel by pixel\n",
    "            for row in range(28):\n",
    "                for col in range(28):\n",
    "                \n",
    "                    # Slicing top to bottom and then left to right\n",
    "                    # If row - 1 does not exist, I am starting at the top of the image\n",
    "                    # I am isolating each pixel for us to look at and subsequently blur\n",
    "                    # We have to have row + 2 and col + 2 as our slicing is non-inclusive\n",
    "                    nn = x[max(0,row-1):row+2, max(0,col-1):col+2]\n",
    "                        \n",
    "                    # Summing the values in neighboring pixels over the number of neighboring pixels\n",
    "                    # to get the proper weight; the average of the pixel values\n",
    "                    # Acquiring the proper value for the pixel and then putting it back into the image\n",
    "                    blur_image[row][col] = np.sum(nn) / float(nn.size)\n",
    "                \n",
    "            # Now putting the image back into the dataset into the same shape\n",
    "            # I am using mini_6_blur_data[1] as an example to get the proper data shape\n",
    "            mini_6_blur_data[image] = blur_image.reshape(dataset.shape[1])\n",
    "    \n",
    "        return mini_6_blur_data\n",
    "\n",
    "    # Printing examples of blurred images from the mini training data\n",
    "    x = blur(mini_train_data)\n",
    "\n",
    "    plt.subplot(1,2,1)\n",
    "    plt.title(\"Not Blurred Image\")\n",
    "    plt.imshow(mini_train_data[100].reshape(28,28), cmap=plt.cm.gray_r)\n",
    "    plt.subplot(1,2,2)\n",
    "    plt.title(\"Blurred Image\")\n",
    "    plt.imshow(x[100].reshape(28,28), cmap=plt.cm.gray_r)\n",
    "\n",
    "    # Using k Nearest Neighbors to find accuracy as we are blurring with nearest neighbors above\n",
    "    def KNN (train_data, train_labels, predict_data, predict_labels):\n",
    "        \"\"\"Using k Nearest Neighbors to evaluate accuracy of the blurred images\"\"\"\n",
    "    \n",
    "        # Choosing to only use 1 k Nearest Neighbor\n",
    "        model = KNeighborsClassifier(n_neighbors=1)\n",
    "        model.fit(train_data, train_labels)\n",
    "        model.predict(predict_data)  \n",
    "        return(model.score(predict_data, predict_labels))\n",
    "    \n",
    "    \n",
    "    # Using the blur function to preprocess the datasets\n",
    "    preprocess_train = blur(mini_train_data)\n",
    "    preprocess_dev = blur(dev_data)\n",
    "\n",
    "    print(\"model accuracy when preprocessing the training data but not the dev data:\", \n",
    "          KNN(preprocess_train, mini_train_labels, dev_data, dev_labels))\n",
    "\n",
    "    print(\"model accuracy when preprocessing the dev data but not the training data:\", \n",
    "          KNN(mini_train_data, mini_train_labels, preprocess_dev, dev_labels))\n",
    "\n",
    "    print(\"model accuracy when preprocessing both training and dev data:\", \n",
    "          KNN(preprocess_train, mini_train_labels, preprocess_dev, dev_labels))\n",
    "\n",
    "### STUDENT END ###\n",
    "\n",
    "P6()"
   ]
  },
  {
   "cell_type": "markdown",
   "metadata": {},
   "source": [
    "**ANSWER:** The difference in accuracy is very small between the three different models I ran as long as I processed the training data, although it is best when the training data is preprocessed and the dev data is not. This makes sense as the training data is blurred so that the it can be more generalized when trying to predict the dev data. The dev data does not also need to be more generalized.\n",
    "\n",
    "With regards to weighting within the Gaussian function, I weighted according to the neighboring pixel values (adding them all together and then dividing by the number of pixels), which produced the highest accuracy.\n",
    "\n",
    "<br>"
   ]
  },
  {
   "cell_type": "markdown",
   "metadata": {},
   "source": [
    "(7) Fit a Naive Bayes classifier and report accuracy on the dev data. Remember that Naive Bayes estimates P(feature|label). While sklearn can handle real-valued features, let's start by mapping the pixel values to either 0 or 1. You can do this as a preprocessing step, or with the binarize argument. With binary-valued features, you can use BernoulliNB. Next try mapping the pixel values to 0, 1, or 2, representing white, grey, or black. This mapping requires MultinomialNB. Does the multi-class version improve the results? Why or why not?"
   ]
  },
  {
   "cell_type": "code",
   "execution_count": null,
   "metadata": {},
   "outputs": [],
   "source": [
    "def P7():\n",
    "\n",
    "### STUDENT START ###\n",
    "\n",
    "    # Creating a copy of the dataset for easier parsing mapping to pixel values 0 or 1\n",
    "    mini_X1 = mini_train_data.copy()\n",
    "    mini_Y1 = mini_train_labels.copy()\n",
    "\n",
    "    # Fitting the mini training data and then scoring the dev data\n",
    "    # Passing a defined threshold into the binarize parameter\n",
    "    BernNB = BernoulliNB(binarize=((np.max(mini_X1) - np.min(mini_Y1)) / 2))\n",
    "    BernNB.fit(mini_X1, mini_Y1)\n",
    "    print('Accuracy on the Dev Data for BernoulliNB Pixel Values:', BernNB.score(dev_data, dev_labels))\n",
    "    \n",
    "    # Plotting the binarized data to understand my output in histogram of the BernoulliNB\n",
    "    mini_X1[np.where(mini_train_data < 0.5)] = 0\n",
    "    mini_X1[np.where(mini_train_data > 0.5)] = 1\n",
    "    \n",
    "    plt.hist(mini_X1[100])\n",
    "    plt.xlabel(\"Pixel Thresholds\")\n",
    "    plt.ylabel(\"Num of Pixels\")\n",
    "    plt.title('Image 100 Histogram of BernoulliNB Pixel Values')\n",
    "    plt.show()    \n",
    "    \n",
    "\n",
    "    # Creating a copy of the dataset for easier parsing for mapping to pixel values 0, 1 or 2\n",
    "    mini_X2 = mini_train_data.copy()\n",
    "    mini_Y2 = mini_train_labels.copy()\n",
    "\n",
    "    # Parsing the data into new variables\n",
    "    # From playing with the thresholds and the histogram below, most pixels are at the ends of the spectrum\n",
    "    # as we know that all images are padded with zeros and most of the digit's writing will have a higher pixel value\n",
    "    mini_X2[np.where(mini_train_data < .05)] = 0\n",
    "    mini_X2[np.where((mini_train_data >= .05) & (mini_train_data < .95))] = 1\n",
    "    mini_X2[np.where(mini_train_data >= .95)] = 2\n",
    "\n",
    "    # Fitting the mini training data and then scoring the dev data\n",
    "    MultiNB = MultinomialNB()\n",
    "    MultiNB.fit(mini_X2, mini_Y2)\n",
    "    print('\\nAccuracy on the Dev Data for MultinomialNB Pixel Values:', MultiNB.score(dev_data, dev_labels))\n",
    "\n",
    "    # Plotting to understand my output in histogram of the MultinomialNB\n",
    "    plt.hist(mini_X2[100])\n",
    "    plt.xlabel(\"Pixel Thresholds\")\n",
    "    plt.ylabel(\"Num of Pixels\")\n",
    "    plt.title('Image 100 Histogram of MultinomialNB Pixel Values')\n",
    "    plt.show()\n",
    "    \n",
    "    # Plotting example images of the MultinomialNB and BernoulliNB transformations to show the differences\n",
    "    plt.subplot(1,2,1)\n",
    "    plt.axis('off')\n",
    "    plt.title(\"BernoulliNB Pixel Values\")\n",
    "    plt.imshow(mini_X1[100].reshape(28,28), cmap=plt.cm.gray_r)\n",
    "    \n",
    "    plt.subplot(1,2,2)\n",
    "    plt.axis('off')\n",
    "    plt.title(\"MultinomialNB Pixel Values\")\n",
    "    plt.imshow(mini_X2[100].reshape(28,28), cmap=plt.cm.gray_r)\n",
    "\n",
    "### STUDENT END ###\n",
    "\n",
    "P7()"
   ]
  },
  {
   "cell_type": "markdown",
   "metadata": {},
   "source": [
    "**ANSWER:** The MultinomialNB model does not improve the results as the accuracy here is 0.795 compared with a BernoulliNB model accuracy of 0.815. In the case of the MultinomialNB model where we are splitting the data into white, black, and grey, the grey does not seem to add anything to the prediction. Much of the data is either black (a high pixel value) or white (a low pixel value), while very little bit of the data is grey. Therefore, the prediction is weaker as we are essentially adding noise to a fairly binarized image.\n",
    "\n",
    "<br>"
   ]
  },
  {
   "cell_type": "markdown",
   "metadata": {},
   "source": [
    "(8) Use GridSearchCV to perform a search over values of alpha (the Laplace smoothing parameter) in a Bernoulli NB model. What is the best value for alpha? What is the accuracy when alpha=0? Is this what you'd expect?\n",
    "\n",
    "- Note that GridSearchCV partitions the training data so the results will be a bit different than if you used the dev data for evaluation."
   ]
  },
  {
   "cell_type": "code",
   "execution_count": 10,
   "metadata": {},
   "outputs": [
    {
     "name": "stderr",
     "output_type": "stream",
     "text": [
      "/Users/danielleadler/anaconda3/lib/python3.6/site-packages/sklearn/naive_bayes.py:472: UserWarning: alpha too small will result in numeric errors, setting alpha = 1.0e-10\n",
      "  'setting alpha = %.1e' % _ALPHA_MIN)\n",
      "/Users/danielleadler/anaconda3/lib/python3.6/site-packages/sklearn/naive_bayes.py:472: UserWarning: alpha too small will result in numeric errors, setting alpha = 1.0e-10\n",
      "  'setting alpha = %.1e' % _ALPHA_MIN)\n",
      "/Users/danielleadler/anaconda3/lib/python3.6/site-packages/sklearn/naive_bayes.py:472: UserWarning: alpha too small will result in numeric errors, setting alpha = 1.0e-10\n",
      "  'setting alpha = %.1e' % _ALPHA_MIN)\n"
     ]
    },
    {
     "data": {
      "text/plain": [
       "('Grid Scores:',\n",
       " [mean: 0.80300, std: 0.03072, params: {'alpha': 0.0},\n",
       "  mean: 0.82000, std: 0.02208, params: {'alpha': 0.0001},\n",
       "  mean: 0.82000, std: 0.02305, params: {'alpha': 0.001},\n",
       "  mean: 0.82000, std: 0.02607, params: {'alpha': 0.01},\n",
       "  mean: 0.82100, std: 0.02454, params: {'alpha': 0.1},\n",
       "  mean: 0.81900, std: 0.02147, params: {'alpha': 0.5},\n",
       "  mean: 0.81200, std: 0.01814, params: {'alpha': 1.0},\n",
       "  mean: 0.81000, std: 0.01767, params: {'alpha': 2.0},\n",
       "  mean: 0.77500, std: 0.01719, params: {'alpha': 10.0}],\n",
       " 'Best Alpha Parameter:',\n",
       " {'alpha': 0.1})"
      ]
     },
     "execution_count": 10,
     "metadata": {},
     "output_type": "execute_result"
    }
   ],
   "source": [
    "def P8(alphas):\n",
    "\n",
    "### STUDENT START ###\n",
    "\n",
    "    BernNB = BernoulliNB(binarize=0)\n",
    "    GS_CV = GridSearchCV(BernNB, param_grid=alphas)\n",
    "    GS_CV.fit(mini_train_data, mini_train_labels)\n",
    "    return(\"Grid Scores:\", GS_CV.grid_scores_, \"Best Alpha Parameter:\", GS_CV.best_params_)\n",
    "\n",
    "### STUDENT END ###\n",
    "\n",
    "alphas = {'alpha': [0.0, 0.0001, 0.001, 0.01, 0.1, 0.5, 1.0, 2.0, 10.0]}\n",
    "P8(alphas)"
   ]
  },
  {
   "cell_type": "markdown",
   "metadata": {},
   "source": [
    "**ANSWER:** The best value for alpha is 0.1, although all of the alphas between 0.0001 and 0.1 are very close. The alpha at 0 contains no smoothing at all. Therefore, we get an erorr in our dataset, and our prediction is 2 percentage points weaker than when we even have just a small smoothing parameter. I would have expected the best alpha to be a bit smaller, such as 0.0001 as our dataset is so large. However, our mini training dataset is not quite as large, and therefore it may require a slightly larger alpha.\n",
    "\n",
    "The smoothing parameters at 0.5 and above are simply too large and unnecessary for the dataset, which is already large. Therefore, they are essentially over-smoothing the dataset, leading to an incrementally lower accuracy with the higher values of alpha.\n",
    "\n",
    "<br>"
   ]
  },
  {
   "cell_type": "markdown",
   "metadata": {},
   "source": [
    "(9) Try training a model using GuassianNB, which is intended for real-valued features, and evaluate on the dev data. You'll notice that it doesn't work so well. Try to diagnose the problem. You should be able to find a simple fix that returns the accuracy to around the same rate as BernoulliNB. Explain your solution.\n",
    "\n",
    "Hint: examine the parameters estimated by the fit() method, theta\\_ and sigma\\_."
   ]
  },
  {
   "cell_type": "code",
   "execution_count": 11,
   "metadata": {},
   "outputs": [
    {
     "name": "stdout",
     "output_type": "stream",
     "text": [
      "Accuracy on the Dev Data for GuassianNB_Initial: 0.621\n",
      "\n",
      "Examining GaussNB.theta_: \n",
      "mean: 0.131 \n",
      "standard deviation: 0.205 \n",
      "max: 0.944 \n",
      "min: 0.000\n",
      "\n",
      "Examining GaussNB.sigma_: \n",
      "mean: 0.053 \n",
      "standard deviation: 0.070 \n",
      "max: 0.216 \n",
      "min: 0.000\n",
      "\n",
      "Accuracy on the Dev Data for GuassianNB_Final: 0.802 at sigma: 0.100\n",
      "Accuracy on the Dev Data for GuassianNB_Final: 0.802 at sigma: 0.400\n",
      "Accuracy on the Dev Data for GuassianNB_Final: 0.801 at sigma: 0.700\n",
      "Accuracy on the Dev Data for GuassianNB_Final: 0.802 at sigma: 1.000\n",
      "\n",
      "Accuracy on the Dev Data for GuassianNB_Evaluating_Higher_Sigmas: 0.802 at sigma: 1.0\n",
      "Accuracy on the Dev Data for GuassianNB_Evaluating_Higher_Sigmas: 0.799 at sigma: 2.8\n",
      "Accuracy on the Dev Data for GuassianNB_Evaluating_Higher_Sigmas: 0.801 at sigma: 4.6\n",
      "Accuracy on the Dev Data for GuassianNB_Evaluating_Higher_Sigmas: 0.792 at sigma: 6.4\n",
      "Accuracy on the Dev Data for GuassianNB_Evaluating_Higher_Sigmas: 0.784 at sigma: 8.2\n",
      "Accuracy on the Dev Data for GuassianNB_Evaluating_Higher_Sigmas: 0.780 at sigma: 10.0\n"
     ]
    }
   ],
   "source": [
    "def P9():\n",
    "\n",
    "### STUDENT END ###\n",
    "\n",
    "    # Training a model using the GuassianNB function with the mini data and then scoring on the dev data\n",
    "    GaussNB = GaussianNB()\n",
    "    GaussNB.fit(mini_train_data, mini_train_labels)\n",
    "    print('Accuracy on the Dev Data for GuassianNB_Initial:', GaussNB.score(dev_data, dev_labels))\n",
    "\n",
    "    # theta_ is the mean and sigma_ is the variance\n",
    "    # I am now examining key statistics of the sigmas and thetas\n",
    "    print(\"\\nExamining GaussNB.theta_:\", \"\\nmean:\", '%.3f' % np.mean(GaussNB.theta_), \"\\nstandard deviation:\",\n",
    "         '%.3f' % np.std(GaussNB.theta_), \"\\nmax:\", '%.3f' % np.max(GaussNB.theta_), \"\\nmin:\", \n",
    "          '%.3f' % np.min(GaussNB.theta_))\n",
    "    \n",
    "    print(\"\\nExamining GaussNB.sigma_:\", \"\\nmean:\", '%.3f' % np.mean(GaussNB.sigma_), \"\\nstandard deviation:\",\n",
    "         '%.3f' % np.std(GaussNB.sigma_), \"\\nmax:\", '%.3f' % np.max(GaussNB.sigma_), \"\\nmin:\", \n",
    "          '%.3f' % np.min(GaussNB.sigma_))\n",
    "\n",
    "    # Printing to get an extra line in the output\n",
    "    print(\"\")\n",
    "    \n",
    "    # I have 10 rows and 784 pixels within each image, and my goal is to change the sigmas for all dev_data\n",
    "    # to try to improve our prediction as the sigmas and thetas are very close to 0\n",
    "    # I am increasing the sigmas to improve prediction accuracy by allowing a higher variance across pixels\n",
    "    for x in np.linspace(0.1,1,4):\n",
    "        GaussNB.sigma_ = np.full((10, 784),x)\n",
    "        \n",
    "        # I do not have to fit with our train data again as the sigma is an artifact of the train_data\n",
    "        # that we pass in, and I have just passed in a new sigma\n",
    "        print(\"Accuracy on the Dev Data for GuassianNB_Final: \", '%.3f' %\n",
    "              GaussNB.score(dev_data, dev_labels), \" at sigma: \", '%.3f' % x,  sep=\"\")\n",
    "\n",
    "    # Printing to get an extra line in the output\n",
    "    print(\"\")\n",
    "    \n",
    "    # Decided to evaluate very high sigmas to see a change in trend in our predictions\n",
    "    # However, if I increase the sigmas too much, the prediction levels go down as well\n",
    "    for x in np.linspace(1,10,6):\n",
    "        GaussNB.sigma_ = np.full((10, 784),x)\n",
    "    \n",
    "        print(\"Accuracy on the Dev Data for GuassianNB_Evaluating_Higher_Sigmas: \", '%.3f' %\n",
    "              GaussNB.score(dev_data, dev_labels), \" at sigma: \", x,  sep=\"\")\n",
    "\n",
    "### STUDENT END ###\n",
    "\n",
    "P9()"
   ]
  },
  {
   "cell_type": "markdown",
   "metadata": {},
   "source": [
    "**ANSWER:** In order to get a better prediction, I changed the value of the sigmas (the variance) within the GuassianNB for the prediction on the dev data as the GaussianNB function assumes a normal distribution. The variance began very small, with an average of 0.053, which allowed for very little variation when fitting the mini train dataset to predict the dev data.\n",
    "\n",
    "When I increased the size of the variance to between 0.1 - 1, I widened the distribution and allowed for more room in variation when predicting the dev data. Therefore, I was able to generalize the model further for a higher accuracy. When I increased the sigma too much (1.0), I saw the variance increase too much, allowing for too much room in predictions, which resulted in a lower accuracy.\n",
    "\n",
    "The accuracy of 0.802 is not as good as the BernoulliNB model, but it is very close.\n",
    "\n",
    "<br>"
   ]
  },
  {
   "cell_type": "markdown",
   "metadata": {},
   "source": [
    "(10) Because Naive Bayes is a generative model, we can use the trained model to generate digits. Train a BernoulliNB model and then generate a 10x20 grid with 20 examples of each digit. Because you're using a Bernoulli model, each pixel output will be either 0 or 1. How do the generated digits compare to the training digits?\n",
    "\n",
    "- You can use np.random.rand() to generate random numbers from a uniform distribution\n",
    "- The estimated probability of each pixel is stored in feature\\_log\\_prob\\_. You'll need to use np.exp() to convert a log probability back to a probability."
   ]
  },
  {
   "cell_type": "code",
   "execution_count": 12,
   "metadata": {},
   "outputs": [
    {
     "data": {
      "image/png": "[encoded data removed]",
      "text/plain": [
       "<Figure size 432x288 with 200 Axes>"
      ]
     },
     "metadata": {},
     "output_type": "display_data"
    }
   ],
   "source": [
    "def P10(num_examples):\n",
    "    \n",
    "### STUDENT START ###\n",
    "\n",
    "    # Fitting the mini training data and then scoring the dev data\n",
    "    # A higher threshold or taking the median produced a worse result\n",
    "    BernNB = BernoulliNB(binarize=.1)\n",
    "    model_fit = BernNB.fit(mini_train_data, mini_train_labels)\n",
    "\n",
    "    # For each feature we have a log probability associated and now we are converting back to a probability\n",
    "    # The probabilities here are the probability that a pixel exists (probability of it being 1)\n",
    "    pixel_probs = np.exp(model_fit.feature_log_prob_)\n",
    "\n",
    "    # Initializing our subplot so that it starts with printing the first row in our image grid\n",
    "    adding_rows = 0\n",
    "\n",
    "    # Incrementing each digit of the 10 digit possibilities\n",
    "    for digit in range(10):\n",
    "    \n",
    "        # (np.random.rand(num_examples,28*28)) are random digits between 0 and 1 in the same shape as our data grid\n",
    "        # We only want to keep the images of digits that have higher probabilities than the randomly generated ones\n",
    "        # The grid equation is looking at each pixel and then creating images where there are higher probabilities\n",
    "        grid = pixel_probs[digit] > np.random.rand(num_examples,28*28)\n",
    "    \n",
    "        # Incrementing to print 20 images within each digit\n",
    "        for image in range(num_examples):\n",
    "        \n",
    "            adding_rows += 1\n",
    "        \n",
    "            # Breaks the graph into rows (10), columns (num_examples)\n",
    "            # and adds row each time we go through the for loop (10 times)\n",
    "            plt.subplot(10, num_examples, adding_rows)\n",
    "            plt.axis('off')\n",
    "        \n",
    "            # Looping through 10 of the examples that are in grid\n",
    "            # Reshaping to print images at 28 x 28 pixels\n",
    "            # Printing the randomly generated images\n",
    "            plt.imshow(grid[image].reshape(28,28), cmap=plt.cm.gray_r)\n",
    "\n",
    "### STUDENT END ###\n",
    "\n",
    "P10(20)"
   ]
  },
  {
   "cell_type": "markdown",
   "metadata": {},
   "source": [
    "**ANSWER:** In this case, the generated digits look worse and more scattered than the actual training digits, although the digits can loosely be made out. This is because the training digits was binarized (on a threshold of 0.1). The higher the threshold, the more scattered the digits were and the harder they were to make out. \n",
    "\n",
    "Then a dataset was reproduced based off of the probability of the pixel being a higher probability than the random number generator. If the shape of the number was unclear, or had more variability originally in pixel values, the number is now harder to make out. The data is hard to make out as Naive Bayes assumes independence between all features (pixels), which is not always the case in these digits.\n",
    "\n",
    "<br>"
   ]
  },
  {
   "cell_type": "markdown",
   "metadata": {},
   "source": [
    "(11) Remember that a strongly calibrated classifier is rougly 90% accurate when the posterior probability of the predicted class is 0.9. A weakly calibrated classifier is more accurate when the posterior is 90% than when it is 80%. A poorly calibrated classifier has no positive correlation between posterior and accuracy.\n",
    "\n",
    "Train a BernoulliNB model with a reasonable alpha value. For each posterior bucket (think of a bin in a histogram), you want to estimate the classifier's accuracy. So for each prediction, find the bucket the maximum posterior belongs to and update the \"correct\" and \"total\" counters.\n",
    "\n",
    "How would you characterize the calibration for the Naive Bayes model?"
   ]
  },
  {
   "cell_type": "code",
   "execution_count": 13,
   "metadata": {},
   "outputs": [
    {
     "name": "stdout",
     "output_type": "stream",
     "text": [
      "p(pred) <= 0.5000000000000    total =   0    accuracy = 0.000\n",
      "p(pred) <= 0.9000000000000    total =  35    accuracy = 0.314\n",
      "p(pred) <= 0.9990000000000    total =  95    accuracy = 0.442\n",
      "p(pred) <= 0.9999900000000    total =  75    accuracy = 0.653\n",
      "p(pred) <= 0.9999999000000    total =  63    accuracy = 0.714\n",
      "p(pred) <= 0.9999999990000    total =  63    accuracy = 0.810\n",
      "p(pred) <= 0.9999999999900    total =  92    accuracy = 0.804\n",
      "p(pred) <= 0.9999999999999    total =  75    accuracy = 0.867\n",
      "p(pred) <= 1.0000000000000    total = 502    accuracy = 0.960\n"
     ]
    }
   ],
   "source": [
    "def P11(buckets, correct, total):\n",
    "    \n",
    "### STUDENT START ###\n",
    "\n",
    "    # Creating a copy of the dataset for easier parsing\n",
    "    mini_12_train = mini_train_data.copy()\n",
    "    dev_12_data = dev_data.copy()\n",
    "\n",
    "    # Binarizing the training and dev data for use in the BernoulliNB model\n",
    "    mini_12_train[np.where(mini_train_data < .5)] = 0\n",
    "    mini_12_train[np.where(mini_train_data > .5)] = 1\n",
    "\n",
    "    # Tried not binarizing the dev data, but binarizing gave a better prediction\n",
    "    dev_12_data[np.where(dev_data < .5)] = 0\n",
    "    dev_12_data[np.where(dev_data > .5)] = 1\n",
    "\n",
    "    # Fitting the mini training data and then scoring the dev data\n",
    "    # We don't have to pass through anything binarized as the data is already binarized above\n",
    "    # Alpha value used for smoothing was the best parameter found in question 8 for proper smoothing\n",
    "    BernNB = BernoulliNB(alpha = 0.1)\n",
    "    BernNB.fit(mini_12_train, mini_train_labels)\n",
    "\n",
    "\n",
    "    # We will now iterate through all of the predicted data to bucket appropriately\n",
    "    # and count the number of correct and total guesses\n",
    "    for i in range(0,len(dev_12_data)):\n",
    "    \n",
    "        # The 'predict_proba' function shows the probability of the predicted development\n",
    "        # data label being any of the digits from 0 - 9. We are taking the max posterior\n",
    "        # as this will be the predicted development data label. In this sense, the max\n",
    "        # posterior is the probability of the correctly predicted digit given the digit\n",
    "        max_posterior = max(BernNB.predict_proba(dev_12_data)[i])\n",
    "    \n",
    "        # We will now bucket the data appropriately to better evaluate the prediction\n",
    "        # of the development data label\n",
    "        bucketed_data = next(buckets.index(bucket_num) for bucket_num in buckets if max_posterior <= bucket_num)\n",
    "    \n",
    "        # This is the total bucketed data\n",
    "        total[bucketed_data] += 1\n",
    "    \n",
    "        # This is the correctly bucketed data out of the total data\n",
    "        if BernNB.predict_proba(dev_12_data)[i].argmax(axis=0) == dev_labels[i]:\n",
    "            correct[bucketed_data] +=1\n",
    "    \n",
    "                \n",
    "### STUDENT END ###\n",
    "\n",
    "buckets = [0.5, 0.9, 0.999, 0.99999, 0.9999999, 0.999999999, 0.99999999999, 0.9999999999999, 1.0]\n",
    "correct = [0 for i in buckets]\n",
    "total = [0 for i in buckets]\n",
    "\n",
    "P11(buckets, correct, total)\n",
    "\n",
    "for i in range(len(buckets)):\n",
    "    accuracy = 0.0\n",
    "    if (total[i] > 0): accuracy = correct[i] / total[i]\n",
    "    print ('p(pred) <= %.13f    total = %3d    accuracy = %.3f' %(buckets[i], total[i], accuracy))"
   ]
  },
  {
   "cell_type": "markdown",
   "metadata": {},
   "source": [
    "**ANSWER:** The calibration for the Naive Bayes model seems to be weakly calibrated. When the model was more confident about the prediction, it had a higher chance of being correct, showing that the model is not poorly caliberated. For instance, when the posterior prediction was greater than 0.9999999999999, the model had a 96.0% chance of being accurate.\n",
    "\n",
    "This beig said, when the posterior probability of the predicted class was 0.9, the accuracy was roughly only 31.4%, showing that the Naive Bayes model is not a strongly calibrated classifer either by the definition above. We would expect the accuracy on the full training set to improve, given the increased number of examples of data that could be used to fit the model. BernoulliNB is likely not strongly caliberated given that every pixel is assumed to be independent of the ones around it and we have reduced our pixel values to 0 or 1.\n",
    "\n",
    "<br>"
   ]
  },
  {
   "cell_type": "markdown",
   "metadata": {},
   "source": [
    "(12) EXTRA CREDIT\n",
    "\n",
    "Try designing extra features to see if you can improve the performance of Naive Bayes on the dev set. Here are a few ideas to get you started:\n",
    "- Try summing the pixel values in each row and each column.\n",
    "- Try counting the number of enclosed regions; 8 usually has 2 enclosed regions, 9 usually has 1, and 7 usually has 0.\n",
    "\n",
    "Make sure you comment your code well!"
   ]
  },
  {
   "cell_type": "code",
   "execution_count": null,
   "metadata": {},
   "outputs": [],
   "source": [
    "#def P12():\n",
    "\n",
    "### STUDENT START ###\n",
    "\n",
    "\n",
    "\n",
    "### STUDENT END ###\n",
    "\n",
    "#P12()"
   ]
  }
 ],
 "metadata": {
  "kernelspec": {
   "display_name": "Python 3",
   "language": "python",
   "name": "python3"
  },
  "language_info": {
   "codemirror_mode": {
    "name": "ipython",
    "version": 3
   },
   "file_extension": ".py",
   "mimetype": "text/x-python",
   "name": "python",
   "nbconvert_exporter": "python",
   "pygments_lexer": "ipython3",
   "version": "3.6.5"
  }
 },
 "nbformat": 4,
 "nbformat_minor": 1
}
